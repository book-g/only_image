{
 "cells": [
  {
   "cell_type": "markdown",
   "id": "1bb69949",
   "metadata": {},
   "source": [
    "# L1v1 : Coordinate Systems and Unit Vector in 1D\n",
    "\n",
    "Analysis of Motion in 1D\n",
    "\n",
    "**Imagine** : Person running along the road.\n",
    "\n",
    "Able to describe their **position**, **velocity** and **acceleration** \n",
    "\n",
    "Mathematical Tool:\n",
    "\n",
    " Coordinate System.\n",
    " 1. origin\n",
    " 2. axis  (+ve cooridnate direction)\n",
    " 3. Unit Vector  ($\\displaystyle \\hat{i} =  \\sum_{m=1}^{\\infty}  \\hat{i}_m $)\n",
    "\n",
    " ![](https://github.com/book-g/only_image/blob/main/L1v1.jpg?raw=true)"
   ]
  }
 ],
 "metadata": {
  "language_info": {
   "name": "python"
  }
 },
 "nbformat": 4,
 "nbformat_minor": 5
}
