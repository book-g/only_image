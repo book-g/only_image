{
 "cells": [
  {
   "cell_type": "markdown",
   "id": "51df581e",
   "metadata": {},
   "source": [
    "# L1v2 : Position Vector in 1D\n",
    "\n",
    "\n",
    "\n",
    "### **Algorithm: Construct Position Vector in 1D Motion**\n",
    "\n",
    "1. **Choose coordinate system** with an origin on the x-axis.\n",
    "2. **Select a fixed reference point** on the moving object.\n",
    "3. **Define position function** $x(t)$ as the scalar coordinate of the reference point at time $t$.\n",
    "4. **Construct position vector**:\n",
    "\n",
    "   $$\n",
    "   \\vec{r}(t) = x(t)\\,\\hat{i}\n",
    "   $$\n",
    "5. **Determine direction** based on the sign of $x(t)$:\n",
    "\n",
    "   * If $x(t) > 0$, direction is $+\\hat{i}$\n",
    "   * If $x(t) = 0$, object is at the origin\n",
    "   * If $x(t) < 0$, direction is $-\\hat{i}$\n",
    "\n",
    "\n",
    "\n",
    "\n"
   ]
  },
  {
   "cell_type": "markdown",
   "id": "e0e065a6",
   "metadata": {},
   "source": [
    "![](https://github.com/book-g/only_image/blob/main/L1v2.jpeg?raw=true)"
   ]
  }
 ],
 "metadata": {
  "language_info": {
   "name": "python"
  }
 },
 "nbformat": 4,
 "nbformat_minor": 5
}
