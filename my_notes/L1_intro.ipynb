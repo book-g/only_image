{
 "cells": [
  {
   "cell_type": "markdown",
   "id": "7eeb9a50",
   "metadata": {},
   "source": [
    "# Week 1 : Kinematics vs Dynamics   \n",
    "\n",
    "\n",
    "### The motion of object.\n",
    "1. **SET**      : Cause (C) and Effect (E) are disjoint Set. $C \\cap E = \\empty$\n",
    "2. **RELATION** : C⇒E, E⇏C \n",
    "\n",
    "# Kinematics\n",
    "1. (Motion) How does a particular object move?\n",
    "2. (Trajectory) What does the geometry of motion look like?\n",
    "3. (Shape) what the shape of that trajectory ?      \n",
    "\n",
    "$Motion \\rightarrow Trajectory \\rightarrow Shape$\n",
    "\n",
    "| # | Representation                                  | Explanation                           |\n",
    "| - | ----------------------------------------------- | ------------------------------------- |\n",
    "| 1 | $\\vec{r}(t) = (x(t), y(t), z(t))$               | Position vector as a function of time |\n",
    "| 2 | $\\tau = \\{ \\vec{r}(t) \\mid t \\in [t_0, t_1] \\}$ | The full trajectory path              |\n",
    "| 3 | $\\text{Shape}(\\tau)$: Geometry                  | Curve/shape formed by the trajectory  |\n",
    "\n"
   ]
  }
 ],
 "metadata": {
  "language_info": {
   "name": "python"
  }
 },
 "nbformat": 4,
 "nbformat_minor": 5
}
