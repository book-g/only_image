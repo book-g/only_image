{
 "cells": [
  {
   "cell_type": "markdown",
   "id": "7eeb9a50",
   "metadata": {},
   "source": [
    "# Week 1 : Kinematics vs Dynamics   \n",
    "\n",
    "\n",
    "### The motion of object.\n",
    "1. **SET**      : Cause (C) and Effect (E) are disjoint Set. $C \\cap E = ∅$\n",
    "2. **RELATION** : C⇒E, E⇏C \n",
    "\n",
    "# Kinematics\n",
    "1. (Motion) How does a particular object move?\n",
    "2. (Trajectory) What does the geometry of motion look like?\n",
    "3. (Shape) what the shape of that trajectory ?      \n",
    "\n",
    "$Motion \\rightarrow Trajectory \\rightarrow Shape$\n",
    "\n",
    "| # | Representation                                  | Explanation                           |\n",
    "| - | ----------------------------------------------- | ------------------------------------- |\n",
    "| 1 | $\\vec{r}(t) = (x(t), y(t), z(t))$               | Position vector as a function of time |\n",
    "| 2 | $\\tau = \\{ \\vec{r}(t) \\mid t \\in [t_0, t_1] \\}$ | The full trajectory path              |\n",
    "| 3 | $\\text{Shape}(\\tau)$: Geometry                  | Curve/shape formed by the trajectory  |\n",
    "\n"
   ]
  },
  {
   "cell_type": "markdown",
   "id": "71a1b8ef",
   "metadata": {},
   "source": [
    " \n",
    "### The study of the geometry of motion of a trajectory is referred to as **kinematics**.\n",
    "\n",
    "\n",
    "Here’s the statement in mathematical format:\n",
    "\n",
    "$$\n",
    "\\text{Kinematics} = \\text{Study of } G(\\tau) \\quad \\text{where} \\quad \\tau = \\{\\vec{r}(t) \\mid t \\in [t_0, t_1]\\}\n",
    "$$\n",
    "\n",
    "* $\\vec{r}(t)$ = position vector (motion) as a function of time\n",
    "* $\\tau$ = trajectory (set of positions over time)\n",
    "* $G(\\tau)$ = geometry (shape) of the trajectory\n",
    "\n",
    "Thus, **kinematics** studies the **geometry $G(\\tau)$ of the trajectory $\\tau$**.\n"
   ]
  },
  {
   "cell_type": "markdown",
   "id": "5d2d63dc",
   "metadata": {},
   "source": [
    "## Dynamics \n",
    "\n",
    "1. why does an object move the way it does?\n",
    "2. Why does the kinematic description of the trajectory look the way it does?\n",
    "\n",
    "\n",
    "\n",
    "### The study of the causes behind changes in motion is referred to as **dynamics**.\n",
    "\n",
    "$$\n",
    "\\text{Dynamics} = \\text{Study of } \\vec{F}(t), \\quad \\text{where} \\quad \\vec{F}(t) = m \\frac{d^2 \\vec{r}(t)}{dt^2}\n",
    "$$\n",
    "\n",
    "* $\\vec{F}(t)$ = net force acting on the object as a function of time\n",
    "* $m$ = mass of the object\n",
    "* $\\vec{r}(t)$ = position vector as a function of time\n",
    "* $\\frac{d^2 \\vec{r}(t)}{dt^2}$ = acceleration (change in velocity over time)\n",
    "\n",
    "Thus, **dynamics** studies the **forces $\\vec{F}(t)$ that cause changes in the motion $\\vec{r}(t)$**.\n",
    "\n",
    "\n"
   ]
  },
  {
   "cell_type": "markdown",
   "id": "fc81cf8e",
   "metadata": {},
   "source": [
    "---\n",
    "\n",
    "Newton’s Second Law, $\\vec{F} = m \\vec{a}$, links two important questions:\n",
    "\n",
    "* The right side, $m \\vec{a}$, answers **how** an object moves — describing its motion and path (this is **kinematics**).\n",
    "\n",
    "* The left side, $\\vec{F}$, answers **why** the object moves that way — the causes of motion and changes in motion (this is **dynamics**).\n",
    "\n",
    "These are different questions, but Newton showed they connect through this law.\n",
    "\n",
    "In this course, we first learn to describe motion (kinematics), then explain why motion changes using forces (dynamics).\n",
    "\n"
   ]
  }
 ],
 "metadata": {
  "language_info": {
   "name": "python"
  }
 },
 "nbformat": 4,
 "nbformat_minor": 5
}
