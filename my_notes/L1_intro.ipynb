{
 "cells": [
  {
   "cell_type": "markdown",
   "id": "02b9d793",
   "metadata": {},
   "source": [
    "$\\frac{1}{1}$"
   ]
  }
 ],
 "metadata": {
  "language_info": {
   "name": "python"
  }
 },
 "nbformat": 4,
 "nbformat_minor": 5
}
