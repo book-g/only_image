{
 "cells": [
  {
   "cell_type": "markdown",
   "id": "fdd7586b",
   "metadata": {},
   "source": [
    "# L3v1 : Coordinate System and Position vector in 2D\n",
    "\n",
    "\n",
    "Here's a **step-by-step algorithm** to describe **velocity** in **two-dimensional motion** using **vectors** in **Cartesian coordinates**:\n",
    "\n",
    "---\n",
    "\n",
    "### 🚀 **Algorithm to Determine Velocity in 2D Vector Motion**\n",
    "\n",
    "---\n",
    "\n",
    "#### **Step 1: Choose Coordinate System**\n",
    "\n",
    "* Define:\n",
    "\n",
    "  * Origin $O$\n",
    "  * Axes: $x$-axis and $y$-axis\n",
    "  * Unit vectors: $\\hat{i}$ (along $x$) and $\\hat{j}$ (along $y$)\n",
    "\n",
    "---\n",
    "\n",
    "#### **Step 2: Define Position Vector**\n",
    "\n",
    "* Position of the object at time $t$:\n",
    "\n",
    "  $$\n",
    "  \\vec{r}(t) = x(t)\\hat{i} + y(t)\\hat{j}\n",
    "  $$\n",
    "\n",
    "  * $x(t)$: horizontal position\n",
    "  * $y(t)$: vertical position\n",
    "\n",
    "---\n",
    "\n",
    "#### **Step 3: Compute Velocity Vector**\n",
    "\n",
    "* Velocity is the **time derivative** of the position vector:\n",
    "\n",
    "  $$\n",
    "  \\vec{v}(t) = \\frac{d\\vec{r}(t)}{dt}\n",
    "  $$\n",
    "\n",
    "---\n",
    "\n",
    "#### **Step 4: Apply Derivative Component-Wise**\n",
    "\n",
    "$$\n",
    "\\vec{v}(t) = \\frac{dx(t)}{dt}\\hat{i} + \\frac{dy(t)}{dt}\\hat{j}\n",
    "$$\n",
    "\n",
    "---\n",
    "\n",
    "#### **Step 5: Interpret Result**\n",
    "\n",
    "* $v_x(t) = \\frac{dx}{dt}$: velocity in the $x$-direction\n",
    "* $v_y(t) = \\frac{dy}{dt}$: velocity in the $y$-direction\n",
    "* Combined vector:\n",
    "\n",
    "  $$\n",
    "  \\vec{v}(t) = v_x(t)\\hat{i} + v_y(t)\\hat{j}\n",
    "  $$\n",
    "\n",
    "---\n",
    "\n",
    "#### **Step 6: (Optional) Compute Speed**\n",
    "\n",
    "* Speed is the **magnitude** of velocity vector:\n",
    "\n",
    "  $$\n",
    "  |\\vec{v}(t)| = \\sqrt{v_x(t)^2 + v_y(t)^2}\n",
    "  $$\n",
    "\n",
    "---\n",
    "\n",
    "Let me know if you want this algorithm implemented for a specific function (e.g., for projectile motion like $x(t) = v_0 \\cos\\theta \\cdot t$, $y(t) = v_0 \\sin\\theta \\cdot t - \\frac{1}{2}gt^2$).\n"
   ]
  },
  {
   "cell_type": "code",
   "execution_count": 1,
   "id": "d886cf8c",
   "metadata": {},
   "outputs": [
    {
     "name": "stdout",
     "output_type": "stream",
     "text": [
      "Velocity vector v(t): Matrix([[Derivative(x(t), t)], [Derivative(y(t), t)]])\n",
      "Velocity in x-direction (vx): Derivative(x(t), t)\n",
      "Velocity in y-direction (vy): Derivative(y(t), t)\n",
      "Speed |v(t)|: sqrt(Derivative(x(t), t)**2 + Derivative(y(t), t)**2)\n"
     ]
    }
   ],
   "source": [
    "import sympy as sp\n",
    "\n",
    "# Step 1: Define time variable\n",
    "t = sp.symbols('t')\n",
    "\n",
    "# Step 2: Define position functions x(t) and y(t)\n",
    "x = sp.Function('x')(t)\n",
    "y = sp.Function('y')(t)\n",
    "\n",
    "# Step 3: Define the position vector r(t)\n",
    "r = sp.Matrix([x, y])  # Equivalent to x(t) * i-hat + y(t) * j-hat\n",
    "\n",
    "# Step 4: Compute the velocity vector v(t) = dr/dt\n",
    "v = r.diff(t)\n",
    "\n",
    "# Step 5: Display the velocity vector components\n",
    "vx, vy = v[0], v[1]\n",
    "\n",
    "print(\"Velocity vector v(t):\", v)\n",
    "print(\"Velocity in x-direction (vx):\", vx)\n",
    "print(\"Velocity in y-direction (vy):\", vy)\n",
    "\n",
    "# Optional Step 6: Compute speed (magnitude of velocity vector)\n",
    "speed = sp.sqrt(vx**2 + vy**2)\n",
    "print(\"Speed |v(t)|:\", speed)\n"
   ]
  },
  {
   "cell_type": "markdown",
   "id": "74b15144",
   "metadata": {},
   "source": [
    "![](https://github.com/book-g/only_image/blob/main/L3v1%20+%20Coordinate%20System%20and%20Position%20Vector%20in%202D.jpeg?raw=true)"
   ]
  },
  {
   "cell_type": "code",
   "execution_count": 2,
   "id": "4fc72997",
   "metadata": {},
   "outputs": [
    {
     "name": "stdout",
     "output_type": "stream",
     "text": [
      "Time (t): [0.         0.05050505 0.1010101  0.15151515 0.2020202 ]\n",
      "Position (x, y): [(np.float64(0.0), np.float64(0.0)), (np.float64(0.5050505050505051), np.float64(0.9976022854810734)), (np.float64(1.0101010101010102), np.float64(1.9702071217222734)), (np.float64(1.5151515151515151), np.float64(2.9178145087235996)), (np.float64(2.0202020202020203), np.float64(3.840424446485053))]\n",
      "Velocity (vx, vy): [(np.float64(10.0), np.float64(19.752525252525256)), (np.float64(10.0), np.float64(19.50505050505051)), (np.float64(9.999999999999998), np.float64(19.010101010101007)), (np.float64(10.0), np.float64(18.51515151515152)), (np.float64(10.000000000000004), np.float64(18.020202020202024))]\n",
      "Speed |v|: [22.13960826 21.91910115 21.47984964 21.04307096 20.60892236]\n"
     ]
    },
    {
     "data": {
      "image/png": "[encoded data removed]",
      "text/plain": [
       "<Figure size 1000x400 with 1 Axes>"
      ]
     },
     "metadata": {},
     "output_type": "display_data"
    }
   ],
   "source": [
    "import numpy as np\n",
    "import matplotlib.pyplot as plt\n",
    "\n",
    "# Step 1: Time samples\n",
    "t = np.linspace(0, 5, 100)  # from 0 to 5 seconds, 100 samples\n",
    "dt = t[1] - t[0]            # time step\n",
    "\n",
    "# Step 2: Define position functions\n",
    "# Example: projectile motion with initial velocity vx0 = 10, vy0 = 20, g = 9.8 m/s²\n",
    "vx0 = 10\n",
    "vy0 = 20\n",
    "g = 9.8\n",
    "\n",
    "x = vx0 * t                     # x(t)\n",
    "y = vy0 * t - 0.5 * g * t**2    # y(t)\n",
    "\n",
    "# Step 3: Compute velocity using finite differences (central difference)\n",
    "vx = np.gradient(x, dt)        # dx/dt\n",
    "vy = np.gradient(y, dt)        # dy/dt\n",
    "\n",
    "# Step 4: Combine into velocity vectors\n",
    "velocity_vectors = np.vstack((vx, vy))  # shape: (2, len(t))\n",
    "\n",
    "# Step 5: Compute speed (magnitude of velocity vector)\n",
    "speed = np.sqrt(vx**2 + vy**2)\n",
    "\n",
    "# Print sample results\n",
    "print(\"Time (t):\", t[:5])\n",
    "print(\"Position (x, y):\", list(zip(x[:5], y[:5])))\n",
    "print(\"Velocity (vx, vy):\", list(zip(vx[:5], vy[:5])))\n",
    "print(\"Speed |v|:\", speed[:5])\n",
    "\n",
    "# Optional plot\n",
    "plt.figure(figsize=(10, 4))\n",
    "plt.quiver(x, y, vx, vy, angles='xy', scale_units='xy', scale=50, color='blue')\n",
    "plt.title(\"Velocity Vectors Along Projectile Path\")\n",
    "plt.xlabel(\"x\")\n",
    "plt.ylabel(\"y\")\n",
    "plt.grid(True)\n",
    "plt.axis('equal')\n",
    "plt.show()\n"
   ]
  }
 ],
 "metadata": {
  "kernelspec": {
   "display_name": "Python 3",
   "language": "python",
   "name": "python3"
  },
  "language_info": {
   "codemirror_mode": {
    "name": "ipython",
    "version": 3
   },
   "file_extension": ".py",
   "mimetype": "text/x-python",
   "name": "python",
   "nbconvert_exporter": "python",
   "pygments_lexer": "ipython3",
   "version": "3.12.1"
  }
 },
 "nbformat": 4,
 "nbformat_minor": 5
}
