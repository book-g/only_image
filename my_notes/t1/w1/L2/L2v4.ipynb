{
 "cells": [
  {
   "cell_type": "markdown",
   "id": "e1818c6c",
   "metadata": {},
   "source": [
    "# L2v4 : Integration\n",
    "\n",
    "Here's a step-by-step algorithm to calculate the velocity and position of an object given its acceleration as a function of time, using integration:\n",
    "\n",
    "---\n",
    "\n",
    "### **Inputs:**\n",
    "1. **Acceleration function:** $a(t)$ (given as a function of time).  \n",
    "2. **Initial conditions:**  \n",
    "   - Initial velocity $v(t_0) = v_0$.  \n",
    "   - Initial position $x(t_0) = x_0$.  \n",
    "\n",
    "---\n",
    "\n",
    "### **Algorithm:**\n",
    "\n",
    "#### **Step 1: Compute Velocity $v(t)$ from Acceleration $a(t)$**\n",
    "1. Integrate the acceleration function to find the velocity:  \n",
    "   $$\n",
    "   v(t) = v_0 + \\int_{t_0}^{t} a(t') \\, dt'\n",
    "   $$  \n",
    "   - Here, $t'$ is a dummy integration variable.  \n",
    "   - If $a(t)$ is constant ($a(t) = a_0$):  \n",
    "     $$\n",
    "     v(t) = v_0 + a_0 (t - t_0)\n",
    "     $$  \n",
    "\n",
    "2. **Example:**  \n",
    "   - If $a(t) = kt$ (linear in time), then:  \n",
    "     $$\n",
    "     v(t) = v_0 + \\int_{t_0}^{t} k t' \\, dt' = v_0 + \\frac{1}{2} k (t^2 - t_0^2)\n",
    "     $$  \n",
    "\n",
    "---\n",
    "\n",
    "#### **Step 2: Compute Position $x(t)$ from Velocity $v(t)$**\n",
    "1. Integrate the velocity function to find the position:  \n",
    "   $$\n",
    "   x(t) = x_0 + \\int_{t_0}^{t} v(t') \\, dt'\n",
    "   $$  \n",
    "   - If $v(t)$ is linear (constant acceleration case):  \n",
    "     $$\n",
    "     x(t) = x_0 + v_0 (t - t_0) + \\frac{1}{2} a_0 (t - t_0)^2\n",
    "     $$  \n",
    "\n",
    "2. **Example:**  \n",
    "   - If $v(t) = v_0 + \\frac{1}{2} k t^2$ (from above), then:  \n",
    "     $$\n",
    "     x(t) = x_0 + \\int_{t_0}^{t} \\left( v_0 + \\frac{1}{2} k t'^2 \\right) dt' = x_0 + v_0 (t - t_0) + \\frac{1}{6} k (t^3 - t_0^3)\n",
    "     $$  \n",
    "\n",
    "---\n",
    "\n",
    "### **Key Notes:**\n",
    "1. **Definite vs. Indefinite Integrals:**  \n",
    "   - Use **definite integrals** when initial conditions are known.  \n",
    "   - Use **indefinite integrals + constant of integration** if general solutions are needed.  \n",
    "\n",
    "2. **Numerical Integration (if analytical solution is hard):**  \n",
    "   - If $a(t)$ is complex, approximate the integral using methods like the **trapezoidal rule** or **Simpson’s rule**.  \n",
    "\n",
    "3. **Chain Rule for Non-Time Dependencies:**  \n",
    "   - If acceleration depends on $x$ or $v$ (e.g., $a = a(v)$), use separation of variables or differential equation techniques.  \n",
    "\n",
    "---\n",
    "\n",
    "### **Summary:**\n",
    "1. **Velocity from Acceleration:**  \n",
    "   $$\n",
    "   v(t) = v_0 + \\int_{t_0}^{t} a(t') \\, dt'\n",
    "   $$  \n",
    "2. **Position from Velocity:**  \n",
    "   $$\n",
    "   x(t) = x_0 + \\int_{t_0}^{t} v(t') \\, dt'\n",
    "   $$  \n",
    "\n",
    "This algorithm allows you to compute the full motion $x(t)$ and $v(t)$ given $a(t)$ and initial conditions.  \n",
    "\n",
    "Would you like a worked example for a specific $a(t)$?"
   ]
  },
  {
   "cell_type": "markdown",
   "id": "72bd59d8",
   "metadata": {},
   "source": [
    "![](https://github.com/book-g/only_image/blob/main/L2v4%20+%20Integration%20+%201.jpeg?raw=true)"
   ]
  },
  {
   "cell_type": "markdown",
   "id": "71f464c6",
   "metadata": {},
   "source": [
    "![](https://github.com/book-g/only_image/blob/main/L2v4%20+%20Integration%20+%202.jpeg?raw=true)"
   ]
  },
  {
   "cell_type": "markdown",
   "id": "5f2c6957",
   "metadata": {},
   "source": [
    "![](https://github.com/book-g/only_image/blob/main/L2v4%20+%20Integration%20+%203.jpeg?raw=true)"
   ]
  },
  {
   "cell_type": "markdown",
   "id": "4e9394b7",
   "metadata": {},
   "source": [
    "![](https://github.com/book-g/only_image/blob/main/L2v4%20+%20Integration%20+%204.jpeg?raw=true)"
   ]
  }
 ],
 "metadata": {
  "language_info": {
   "name": "python"
  }
 },
 "nbformat": 4,
 "nbformat_minor": 5
}
