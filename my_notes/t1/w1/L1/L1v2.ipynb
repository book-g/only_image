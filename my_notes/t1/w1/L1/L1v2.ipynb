{
 "cells": [
  {
   "cell_type": "markdown",
   "id": "51df581e",
   "metadata": {},
   "source": [
    "# L1v2 : Position Vector in 1D\n",
    "\n",
    "\n",
    "\n",
    "### **Algorithm: Construct Position Vector in 1D Motion**\n",
    "\n",
    "1. **Choose coordinate system** with an origin on the x-axis.\n",
    "2. **Select a fixed reference point** on the moving object.\n",
    "3. **Define position function** $x(t)$ as the scalar coordinate of the reference point at time $t$.\n",
    "4. **Construct position vector**:\n",
    "\n",
    "   $$\n",
    "   \\vec{r}(t) = x(t)\\,\\hat{i}\n",
    "   $$\n",
    "5. **Determine direction** based on the sign of $x(t)$:\n",
    "\n",
    "   * If $x(t) > 0$, direction is $+\\hat{i}$\n",
    "   * If $x(t) = 0$, object is at the origin\n",
    "   * If $x(t) < 0$, direction is $-\\hat{i}$\n",
    "\n",
    "\n",
    "\n",
    "\n"
   ]
  },
  {
   "cell_type": "code",
   "execution_count": 4,
   "id": "110fb299",
   "metadata": {},
   "outputs": [
    {
     "name": "stdout",
     "output_type": "stream",
     "text": [
      "x(t) = 5: Position Vector = 5 * +i\n",
      "x(t) = 0: Position Vector = 0 * at origin\n",
      "x(t) = -3: Position Vector = -3 * -i\n"
     ]
    }
   ],
   "source": [
    "def position_vector(x_t):\n",
    "    \"\"\"\n",
    "    Construct position vector in 1D motion and determine its direction.\n",
    "    \n",
    "    Parameters:\n",
    "    x_t : float\n",
    "        Scalar coordinate of the reference point at time t.\n",
    "    \n",
    "    Returns:\n",
    "    tuple:\n",
    "        - position_vector (float): magnitude of the position vector\n",
    "        - direction (str): direction of the vector (+i, 0, or -i)\n",
    "    \"\"\"\n",
    "    # Step 4: Construct position vector (magnitude is x(t))\n",
    "    r_t = x_t\n",
    "    \n",
    "    # Step 5: Determine direction\n",
    "    if x_t > 0:\n",
    "        direction = \"+i\"\n",
    "    elif x_t == 0:\n",
    "        direction = \"at origin\"\n",
    "    else:\n",
    "        direction = \"-i\"\n",
    "    \n",
    "    return r_t, direction\n",
    "\n",
    "# Example usage:\n",
    "x_t_values = [5, 0, -3]  # Example positions at different times\n",
    "\n",
    "for x_t in x_t_values:\n",
    "    magnitude, direction = position_vector(x_t)\n",
    "    print(f\"x(t) = {x_t}: Position Vector = {magnitude} * {direction}\")\n"
   ]
  },
  {
   "cell_type": "markdown",
   "id": "e0e065a6",
   "metadata": {},
   "source": [
    "![](https://github.com/book-g/only_image/blob/main/L1v2.jpeg?raw=true)"
   ]
  },
  {
   "cell_type": "markdown",
   "id": "a689e98e",
   "metadata": {},
   "source": [
    "Certainly! Here’s an **example problem** related to the position vector in 1D motion for your lesson L1v2:\n",
    "\n",
    "---\n",
    "\n",
    "### **Example Problem: Position Vector in 1D**\n",
    "\n",
    "A car moves along a straight road with its position given by the function:\n",
    "\n",
    "$$\n",
    "x(t) = 5 - 3t\n",
    "$$\n",
    "\n",
    "where $x(t)$ is in meters and $t$ is in seconds.\n",
    "\n",
    "**(a)** Find the position vector $\\vec{r}(t)$ at time $t = 1$ s and $t = 3$ s.\n",
    "**(b)** Determine the direction of the position vector at these times.\n",
    "\n",
    "---\n",
    "\n",
    "### **Solution:**\n",
    "\n",
    "**(a) Calculate position at $t = 1$ s:**\n",
    "\n",
    "$$\n",
    "x(1) = 5 - 3(1) = 5 - 3 = 2\\, \\text{m}\n",
    "$$\n",
    "\n",
    "$$\n",
    "\\vec{r}(1) = 2\\,\\hat{i} \\quad \\text{(position vector at } t=1\\,\\text{s})\n",
    "$$\n",
    "\n",
    "**Calculate position at $t = 3$ s:**\n",
    "\n",
    "$$\n",
    "x(3) = 5 - 3(3) = 5 - 9 = -4\\, \\text{m}\n",
    "$$\n",
    "\n",
    "$$\n",
    "\\vec{r}(3) = -4\\,\\hat{i} \\quad \\text{(position vector at } t=3\\,\\text{s})\n",
    "$$\n",
    "\n",
    "---\n",
    "\n",
    "**(b) Direction at $t = 1$ s:**\n",
    "Since $x(1) = 2 > 0$, direction is $+\\hat{i}$ (positive x-direction).\n",
    "\n",
    "**Direction at $t = 3$ s:**\n",
    "Since $x(3) = -4 < 0$, direction is $-\\hat{i}$ (negative x-direction).\n",
    "\n",
    "---\n",
    "\n",
    "### **Summary:**\n",
    "\n",
    "| Time (s) | Position $x(t)$ (m) | Position Vector $\\vec{r}(t)$ | Direction           |\n",
    "| -------- | ------------------- | ---------------------------- | ------------------- |\n",
    "| 1        | 2                   | $2\\,\\hat{i}$                 | Positive $+\\hat{i}$ |\n",
    "| 3        | -4                  | $-4\\,\\hat{i}$                | Negative $-\\hat{i}$ |\n",
    "\n",
    "---\n",
    "\n",
    "Let me know if you want me to prepare the displacement or velocity vectors example next!\n"
   ]
  },
  {
   "cell_type": "code",
   "execution_count": 3,
   "id": "0902feb9",
   "metadata": {},
   "outputs": [
    {
     "name": "stdout",
     "output_type": "stream",
     "text": [
      "Time (s) |  Position x(t) (m) |   Position Vector |  Direction\n",
      "-----------------------------------------------------------------\n",
      "       1 |                  2 | 2 * +i         | +i        \n",
      "       3 |                 -4 | -4 * -i         | -i        \n"
     ]
    }
   ],
   "source": [
    "def position_function(t):\n",
    "    \"\"\"Position function x(t) = 5 - 3t\"\"\"\n",
    "    return 5 - 3 * t\n",
    "\n",
    "# Times at which to evaluate position vector\n",
    "times = [1, 3]\n",
    "\n",
    "# Calculate position vector and direction for each time\n",
    "results = []\n",
    "for t in times:\n",
    "    x_t = position_function(t)\n",
    "    r_t, direction = position_vector(x_t)\n",
    "    results.append((t, x_t, r_t, direction))\n",
    "\n",
    "# Display results in table format\n",
    "print(f\"{'Time (s)':>8} | {'Position x(t) (m)':>18} | {'Position Vector':>17} | {'Direction':>10}\")\n",
    "print(\"-\" * 65)\n",
    "for t, x_t, r_t, direction in results:\n",
    "    print(f\"{t:8} | {x_t:18} | {r_t} * {direction:10} | {direction:10}\")"
   ]
  }
 ],
 "metadata": {
  "kernelspec": {
   "display_name": "Python 3",
   "language": "python",
   "name": "python3"
  },
  "language_info": {
   "codemirror_mode": {
    "name": "ipython",
    "version": 3
   },
   "file_extension": ".py",
   "mimetype": "text/x-python",
   "name": "python",
   "nbconvert_exporter": "python",
   "pygments_lexer": "ipython3",
   "version": "3.12.1"
  }
 },
 "nbformat": 4,
 "nbformat_minor": 5
}
