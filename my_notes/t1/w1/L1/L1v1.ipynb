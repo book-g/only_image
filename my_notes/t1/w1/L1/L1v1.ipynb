{
 "cells": [
  {
   "cell_type": "markdown",
   "id": "1bb69949",
   "metadata": {},
   "source": [
    "# L1v1 : Coordinate Systems and Unit Vector in 1D\n",
    "\n",
    "\n",
    "---\n",
    "\n",
    "### **Algorithm: Construct 1D Coordinate System for Motion Analysis**\n",
    "\n",
    "1. Identify the motion scenario (e.g., object moving along a straight path).\n",
    "\n",
    "2. Choose and mark an **origin** on the path.\n",
    "\n",
    "3. Define the **x-axis** along the direction of motion.\n",
    "\n",
    "4. Divide the axis into **equal units** for measurement.\n",
    "\n",
    "5. Assign **positive direction** (e.g., right of origin is $+x$, left is $-x$).\n",
    "\n",
    "6. At each point $P\\_m$ along the x-axis:\n",
    "\n",
    "   * Define a **unit vector** $\\hat{i}\\_m$ pointing in the positive x-direction.\n",
    "\n",
    "7. Recognize:\n",
    "\n",
    "   * All unit vectors $\\hat{i}\\_1 = \\hat{i}\\_2 = \\dots = \\hat{i}$,\n",
    "   * Because they have **equal magnitude (1)** and **same direction**.\n",
    "\n",
    "8. Represent the unit vector as a single symbol $\\hat{i}$ across the entire axis.\n",
    "\n",
    "9. Coordinate system is now ready to analyze:\n",
    "\n",
    "   * Position vector: $\\vec{r}(t) = x(t),\\hat{i}$,\n",
    "   * Velocity: $\\vec{v}(t) = \\frac{dx}{dt},\\hat{i}$,\n",
    "   * Acceleration: $\\vec{a}(t) = \\frac{d^2x}{dt^2},\\hat{i}$.\n",
    "\n",
    "---\n",
    "\n"
   ]
  },
  {
   "cell_type": "code",
   "execution_count": 2,
   "id": "498ce802",
   "metadata": {},
   "outputs": [
    {
     "name": "stdout",
     "output_type": "stream",
     "text": [
      "1D Coordinate System with Unit Vectors:\n",
      "Point(x=-3, unit_vector=+i)\n",
      "Point(x=-2, unit_vector=+i)\n",
      "Point(x=-1, unit_vector=+i)\n",
      "Point(x=0, unit_vector=+i)\n",
      "Point(x=1, unit_vector=+i)\n",
      "Point(x=2, unit_vector=+i)\n",
      "Point(x=3, unit_vector=+i)\n"
     ]
    }
   ],
   "source": [
    "class Point1D:\n",
    "    def __init__(self, x_coord):\n",
    "        self.x = x_coord\n",
    "        self.unit_vector = self.assign_unit_vector()\n",
    "\n",
    "    def assign_unit_vector(self):\n",
    "        # All unit vectors in 1D point in the same direction: +i\n",
    "        return [1]  # Represents +i direction\n",
    "\n",
    "    def __repr__(self):\n",
    "        direction = \"+i\" if self.unit_vector[0] > 0 else \"-i\"\n",
    "        return f\"Point(x={self.x}, unit_vector={direction})\"\n",
    "\n",
    "class CoordinateSystem1D:\n",
    "    def __init__(self, origin=0, units=5):\n",
    "        self.origin = origin\n",
    "        self.units = units\n",
    "        self.points = self.construct_axis()\n",
    "\n",
    "    def construct_axis(self):\n",
    "        # Create points left and right of the origin\n",
    "        axis_points = []\n",
    "        for i in range(-self.units, self.units + 1):\n",
    "            axis_points.append(Point1D(x_coord=self.origin + i))\n",
    "        return axis_points\n",
    "\n",
    "    def display_system(self):\n",
    "        print(\"1D Coordinate System with Unit Vectors:\")\n",
    "        for point in self.points:\n",
    "            print(point)\n",
    "\n",
    "# --- Example Usage ---\n",
    "coordinate_system = CoordinateSystem1D(origin=0, units=3)\n",
    "coordinate_system.display_system()\n"
   ]
  },
  {
   "cell_type": "markdown",
   "id": "c75b65ba",
   "metadata": {},
   "source": [
    " ![](https://github.com/book-g/only_image/blob/main/L1v1.jpg?raw=true)"
   ]
  },
  {
   "cell_type": "markdown",
   "id": "4d05ad52",
   "metadata": {},
   "source": [
    "### 🧮 **Example Problem: Identifying Unit Vectors at Different Positions**\n",
    "\n",
    "> **Problem:**\n",
    "> You have a 1D coordinate system defined from -3 m to +3 m.\n",
    "> A particle is located at positions:\n",
    "\n",
    "* $x = -2$ m\n",
    "* $x = 0$ m\n",
    "* $x = +3$ m\n",
    "\n",
    "**Determine:**\n",
    "\n",
    "1. The unit vector direction at each of these positions.\n",
    "2. Confirm that all unit vectors are equal in direction and magnitude."
   ]
  },
  {
   "cell_type": "markdown",
   "id": "cd2df65d",
   "metadata": {},
   "source": [
    "### ✅ Short Answer\n",
    "\n",
    "**Given**: Positions at $x = -2\\, \\text{m},\\ 0\\, \\text{m},\\ +3\\, \\text{m}$ on a 1D axis.\n",
    "\n",
    "**In 1D Cartesian system**:\n",
    "\n",
    "* The unit vector $\\hat{i}$ always points in the **+x direction**.\n",
    "* It has a **magnitude of 1** at all points.\n",
    "\n",
    "### 🔹 Result:\n",
    "\n",
    "| Position $x$   | Unit Vector $\\hat{i}$ | Magnitude | Direction    |\n",
    "| -------------- | --------------------- | --------- | ------------ |\n",
    "| $-2\\,\\text{m}$ | $\\hat{i}$             | 1         | +x direction |\n",
    "| $0\\,\\text{m}$  | $\\hat{i}$             | 1         | +x direction |\n",
    "| $+3\\,\\text{m}$ | $\\hat{i}$             | 1         | +x direction |\n",
    "\n",
    "✅ **Conclusion**: All unit vectors are **equal** in direction and magnitude.\n"
   ]
  },
  {
   "cell_type": "code",
   "execution_count": 3,
   "id": "06c0efc3",
   "metadata": {},
   "outputs": [
    {
     "name": "stdout",
     "output_type": "stream",
     "text": [
      "Checking unit vectors at specific positions:\n",
      "At x = -2 m, unit vector = +i\n",
      "At x = 0 m, unit vector = +i\n",
      "At x = 3 m, unit vector = +i\n"
     ]
    }
   ],
   "source": [
    "# Create the coordinate system\n",
    "coordinate_system = CoordinateSystem1D(origin=0, units=3)\n",
    "\n",
    "# List of x positions to check\n",
    "positions_to_check = [-2, 0, 3]\n",
    "\n",
    "print(\"Checking unit vectors at specific positions:\")\n",
    "for point in coordinate_system.points:\n",
    "    if point.x in positions_to_check:\n",
    "        direction = \"+i\" if point.unit_vector[0] > 0 else \"-i\"\n",
    "        print(f\"At x = {point.x} m, unit vector = {direction}\")\n"
   ]
  }
 ],
 "metadata": {
  "kernelspec": {
   "display_name": "Python 3",
   "language": "python",
   "name": "python3"
  },
  "language_info": {
   "codemirror_mode": {
    "name": "ipython",
    "version": 3
   },
   "file_extension": ".py",
   "mimetype": "text/x-python",
   "name": "python",
   "nbconvert_exporter": "python",
   "pygments_lexer": "ipython3",
   "version": "3.12.1"
  }
 },
 "nbformat": 4,
 "nbformat_minor": 5
}
