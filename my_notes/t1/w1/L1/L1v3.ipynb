{
 "cells": [
  {
   "cell_type": "markdown",
   "id": "76672a58",
   "metadata": {},
   "source": [
    "# L1v3 : Displacement Vector in 1D\n",
    "\n",
    "---\n",
    "\n",
    "### **Algorithm: Compute Displacement Vector in 1D Motion**\n",
    "\n",
    "1. **Define position vector at time t**:\n",
    "\n",
    "   $$\n",
    "   \\vec{r}(t) = x(t)\\,\\hat{i}\n",
    "   $$\n",
    "\n",
    "2. **Define position vector at time $t + \\Delta t$**:\n",
    "\n",
    "   $$\n",
    "   \\vec{r}(t + \\Delta t) = x(t + \\Delta t)\\,\\hat{i}\n",
    "   $$\n",
    "\n",
    "3. **Compute displacement vector**:\n",
    "\n",
    "   $$\n",
    "   \\Delta \\vec{r} = \\vec{r}(t + \\Delta t) - \\vec{r}(t)\n",
    "   $$\n",
    "\n",
    "4. **Simplify displacement vector**:\n",
    "\n",
    "   $$\n",
    "   \\Delta \\vec{r} = [x(t + \\Delta t) - x(t)]\\,\\hat{i}\n",
    "   $$\n",
    "\n",
    "5. **Interpret direction**:\n",
    "\n",
    "   * If $\\Delta x > 0$: motion in $+\\hat{i}$ direction\n",
    "   * If $\\Delta x = 0$: no displacement\n",
    "   * If $\\Delta x < 0$: motion in $-\\hat{i}$ direction\n",
    "\n",
    "---\n",
    "\n"
   ]
  },
  {
   "cell_type": "code",
   "execution_count": 7,
   "id": "9ce283b2",
   "metadata": {},
   "outputs": [
    {
     "name": "stdout",
     "output_type": "stream",
     "text": [
      "Displacement vector: 3.0 * +i\n"
     ]
    }
   ],
   "source": [
    "def displacement_vector(x_t, x_t_delta):\n",
    "    \"\"\"\n",
    "    Compute the displacement vector in 1D motion.\n",
    "    \n",
    "    Parameters:\n",
    "    x_t : float\n",
    "        Position coordinate at time t.\n",
    "    x_t_delta : float\n",
    "        Position coordinate at time t + Δt.\n",
    "    \n",
    "    Returns:\n",
    "    delta_r : tuple (float, str)\n",
    "        Displacement magnitude and direction as a string.\n",
    "    \"\"\"\n",
    "    delta_x = x_t_delta - x_t  # Step 4\n",
    "    \n",
    "    # Determine direction\n",
    "    if delta_x > 0:\n",
    "        direction = \"+i\"\n",
    "    elif delta_x == 0:\n",
    "        direction = \"No displacement\"\n",
    "    else:\n",
    "        direction = \"-i\"\n",
    "    \n",
    "    return delta_x, direction\n",
    "\n",
    "# Example usage:\n",
    "x_t = 5.0        # position at time t (meters)\n",
    "x_t_delta = 8.0  # position at time t + Δt (meters)\n",
    "\n",
    "delta_x, direction = displacement_vector(x_t, x_t_delta)\n",
    "print(f\"Displacement vector: {delta_x} * {direction}\")\n"
   ]
  },
  {
   "cell_type": "markdown",
   "id": "d175c10c",
   "metadata": {},
   "source": [
    "![](https://github.com/book-g/only_image/blob/main/L1v3.jpeg?raw=true)"
   ]
  },
  {
   "cell_type": "markdown",
   "id": "a0bd9c5e",
   "metadata": {},
   "source": [
    "Here is a simple **example problem** based on the **displacement vector algorithm** in 1D motion:\n",
    "\n",
    "---\n",
    "\n",
    "### **Example Problem:**\n",
    "\n",
    "A runner's position along a straight track is given by the position function:\n",
    "\n",
    "$$\n",
    "x(t) = 2t + 3\n",
    "$$\n",
    "\n",
    "where $x(t)$ is in meters and $t$ is in seconds.\n",
    "Find the **displacement vector** of the runner between time $t = 2$ s and $t = 5$ s.\n",
    "\n",
    "---\n",
    "\n",
    "### **Solution Steps:**\n",
    "\n",
    "**Step 1: Compute $x(t)$ at $t = 2$ s**\n",
    "\n",
    "$$\n",
    "x(2) = 2(2) + 3 = 4 + 3 = 7\\ \\text{m}\n",
    "$$\n",
    "\n",
    "**Step 2: Compute $x(t)$ at $t = 5$ s**\n",
    "\n",
    "$$\n",
    "x(5) = 2(5) + 3 = 10 + 3 = 13\\ \\text{m}\n",
    "$$\n",
    "\n",
    "**Step 3: Displacement component**\n",
    "\n",
    "$$\n",
    "\\Delta x = x(5) - x(2) = 13 - 7 = 6\\ \\text{m}\n",
    "$$\n",
    "\n",
    "**Step 4: Displacement vector**\n",
    "\n",
    "$$\n",
    "\\Delta \\vec{r} = \\Delta x\\,\\hat{i} = 6\\,\\hat{i}\\ \\text{m}\n",
    "$$\n",
    "\n",
    "---\n",
    "\n",
    "### **Final Answer:**\n",
    "\n",
    "$$\n",
    "\\Delta \\vec{r} = 6\\,\\hat{i}\\ \\text{m}\n",
    "$$\n",
    "\n",
    "The runner moved **6 meters in the +x direction** between 2 s and 5 s.\n",
    "\n",
    "---\n"
   ]
  },
  {
   "cell_type": "code",
   "execution_count": 8,
   "id": "5b41c4f2",
   "metadata": {},
   "outputs": [
    {
     "name": "stdout",
     "output_type": "stream",
     "text": [
      "Position at t=2s: x(2) = 7 m\n",
      "Position at t=5s: x(5) = 13 m\n",
      "Displacement vector: Δr = 6 * +i meters\n"
     ]
    }
   ],
   "source": [
    "# Position function x(t) = 2t + 3\n",
    "def position(t):\n",
    "    return 2*t + 3\n",
    "\n",
    "# Given times\n",
    "t1 = 2\n",
    "t2 = 5\n",
    "\n",
    "# Calculate positions\n",
    "x_t1 = position(t1)\n",
    "x_t2 = position(t2)\n",
    "\n",
    "# Calculate displacement vector\n",
    "delta_x, direction = displacement_vector(x_t1, x_t2)\n",
    "\n",
    "print(f\"Position at t={t1}s: x({t1}) = {x_t1} m\")\n",
    "print(f\"Position at t={t2}s: x({t2}) = {x_t2} m\")\n",
    "print(f\"Displacement vector: Δr = {delta_x} * {direction} meters\")\n"
   ]
  }
 ],
 "metadata": {
  "kernelspec": {
   "display_name": "Python 3",
   "language": "python",
   "name": "python3"
  },
  "language_info": {
   "codemirror_mode": {
    "name": "ipython",
    "version": 3
   },
   "file_extension": ".py",
   "mimetype": "text/x-python",
   "name": "python",
   "nbconvert_exporter": "python",
   "pygments_lexer": "ipython3",
   "version": "3.12.1"
  }
 },
 "nbformat": 4,
 "nbformat_minor": 5
}
