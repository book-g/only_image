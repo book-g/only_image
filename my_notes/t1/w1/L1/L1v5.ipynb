{
 "cells": [
  {
   "cell_type": "markdown",
   "id": "7286c87d",
   "metadata": {},
   "source": [
    "# L1v5 : Instantaneous Velocity in 1D\n",
    "\n",
    "### Algorithm: Instantaneous Velocity from Position-Time Function\n",
    "\n",
    "\n",
    "1. **Identify position function:**\n",
    "   Define $x(t)$, the position at time $t$.\n",
    "\n",
    "2. **Choose specific time:**\n",
    "   Select a time $t_1$ at which to find the instantaneous velocity.\n",
    "\n",
    "3. **Define time interval:**\n",
    "   Consider a small time interval $\\Delta t$ after $t_1$, i.e., $t_1 + \\Delta t$.\n",
    "\n",
    "4. **Calculate displacement:**\n",
    "   Compute displacement over interval:\n",
    "   $\\Delta x = x(t_1 + \\Delta t) - x(t_1)$\n",
    "\n",
    "5. **Calculate average velocity:**\n",
    "   Calculate average velocity over $\\Delta t$:\n",
    "   $v_{avg} = \\frac{\\Delta x}{\\Delta t}$\n",
    "\n",
    "6. **Reduce interval size:**\n",
    "   Shrink $\\Delta t$ progressively, recalculate $v_{avg}$ for each smaller interval.\n",
    "\n",
    "7. **Find limit of average velocity:**\n",
    "   Take limit as $\\Delta t \\to 0$:\n",
    "\n",
    "   $$\n",
    "   v(t_1) = \\lim_{\\Delta t \\to 0} \\frac{x(t_1 + \\Delta t) - x(t_1)}{\\Delta t}\n",
    "   $$\n",
    "\n",
    "8. **Interpret result:**\n",
    "   Result is the slope of the tangent to $x(t)$ at $t_1$ — the instantaneous velocity.\n",
    "\n",
    "9. **Generalize for any time $t$:**\n",
    "   Instantaneous velocity at any time $t$:\n",
    "\n",
    "   $$\n",
    "   v(t) = \\frac{dx}{dt}\n",
    "   $$\n"
   ]
  },
  {
   "cell_type": "code",
   "execution_count": null,
   "id": "0712d3ce",
   "metadata": {},
   "outputs": [
    {
     "name": "stdout",
     "output_type": "stream",
     "text": [
      "Delta t = 1.0e-01, Average velocity = 14.300000\n",
      "Delta t = 1.0e-02, Average velocity = 14.030000\n",
      "Delta t = 1.0e-03, Average velocity = 14.003000\n",
      "Delta t = 1.0e-04, Average velocity = 14.000300\n",
      "Delta t = 1.0e-05, Average velocity = 14.000030\n",
      "Delta t = 1.0e-06, Average velocity = 14.000003\n",
      "Estimated instantaneous velocity at t=2.0 is approximately 14.000003\n"
     ]
    }
   ],
   "source": [
    "def position(t):\n",
    "    # Example position function x(t) = 3*t**2 + 2*t + 1\n",
    "    return 3*t**2 + 2*t + 1\n",
    "\n",
    "def instantaneous_velocity(t1, delta_t_values):\n",
    "    velocities = []\n",
    "    for delta_t in delta_t_values:\n",
    "        # displacment\n",
    "        delta_x = position(t1 + delta_t) - position(t1)\n",
    "        # average velocity\n",
    "        v_avg = delta_x / delta_t\n",
    "        velocities.append(v_avg)\n",
    "    return velocities\n",
    "\n",
    "# Choose the time at which to find instantaneous velocity\n",
    "t1 = 2.0\n",
    "\n",
    "# List of progressively smaller delta t values to approximate limit\n",
    "delta_t_values = [1e-1, 1e-2, 1e-3, 1e-4, 1e-5, 1e-6]\n",
    "\n",
    "velocities = instantaneous_velocity(t1, delta_t_values)\n",
    "\n",
    "for dt, v in zip(delta_t_values, velocities):\n",
    "    print(f\"Delta t = {dt:.1e}, Average velocity = {v:.6f}\")\n",
    "\n",
    "# Optional: estimate instantaneous velocity as last average velocity\n",
    "print(f\"Estimated instantaneous velocity at t={t1} is approximately {velocities[-1]:.6f}\")\n"
   ]
  },
  {
   "cell_type": "markdown",
   "id": "3453190a",
   "metadata": {},
   "source": [
    "![](https://github.com/book-g/only_image/blob/main/L1v5.jpeg?raw=true)"
   ]
  },
  {
   "cell_type": "markdown",
   "id": "3c0e9438",
   "metadata": {},
   "source": [
    "---\n",
    "\n",
    "### **Problem:**\n",
    "\n",
    "An electron moves along a line with its position given by the function:\n",
    "\n",
    "$$\n",
    "x(t) = 5 \\times 10^{-10} \\times t^2 \\quad \\text{(meters)}, \\quad t \\text{ in attoseconds } (10^{-18} s)\n",
    "$$\n",
    "\n",
    "* Find the instantaneous velocity of the electron at time $t_1 = 10$ attoseconds.\n",
    "\n",
    "---\n",
    "\n",
    "### **Step-by-step solution:**\n",
    "\n",
    "* Position function: $x(t) = 5 \\times 10^{-10} t^2$\n",
    "* $t$ is in attoseconds ($10^{-18}$ seconds)\n",
    "* Goal: find instantaneous velocity $v(t_1) = \\frac{dx}{dt}$ at $t_1 = 10$ attoseconds.\n",
    "\n",
    "---\n",
    "\n",
    "### **Mathematical Instantaneous velocity:**\n",
    "\n",
    "$$\n",
    "v(t) = \\frac{d}{dt} \\left(5 \\times 10^{-10} t^2\\right) = 2 \\times 5 \\times 10^{-10} \\times t = 10^{-9} \\times t\n",
    "$$\n",
    "\n",
    "At $t = 10$ attoseconds,\n",
    "\n",
    "$$\n",
    "v(10) = 10^{-9} \\times 10 = 10^{-8} \\text{ meters per attosecond}\n",
    "$$\n",
    "\n",
    "---\n",
    "\n",
    "### **Interpretation:**\n",
    "\n",
    "* Instantaneous velocity at $t=10$ attoseconds is $10^{-8} \\, m/atto s$.\n",
    "* To convert to SI units: $1 \\, atto s = 10^{-18} s$, so velocity in $m/s$ is:\n",
    "\n",
    "$$\n",
    "v = 10^{-8} \\, \\frac{m}{10^{-18} s} = 10^{10} \\, m/s\n",
    "$$\n",
    "\n",
    "(Note: This speed exceeds the speed of light, so this is a simplified example just to show the calculation process, ignoring physical constraints.)\n",
    "\n",
    "---"
   ]
  },
  {
   "cell_type": "code",
   "execution_count": 2,
   "id": "aed57512",
   "metadata": {},
   "outputs": [
    {
     "data": {
      "text/plain": [
       "(1.0000000492878635e-08, 10000000492.878635)"
      ]
     },
     "execution_count": 2,
     "metadata": {},
     "output_type": "execute_result"
    }
   ],
   "source": [
    "# Define position function x(t) using lambda (t in attoseconds)\n",
    "x = lambda t: 5e-10 * t**2  # meters, t in attoseconds\n",
    "\n",
    "# Define numerical derivative function for velocity v(t)\n",
    "def velocity(t, dt=1e-6):  # dt in attoseconds\n",
    "    return (x(t + dt) - x(t)) / dt  # velocity in meters per attosecond\n",
    "\n",
    "# Compute instantaneous velocity at t = 10 attoseconds\n",
    "t1 = 10  # attoseconds\n",
    "v_atto = velocity(t1)\n",
    "v_si = v_atto / 1e-18  # convert to m/s (SI units)\n",
    "\n",
    "v_atto, v_si  # return both forms of velocity\n",
    "\n"
   ]
  },
  {
   "cell_type": "code",
   "execution_count": 3,
   "id": "9cab49d6",
   "metadata": {},
   "outputs": [
    {
     "name": "stdout",
     "output_type": "stream",
     "text": [
      "v(10) = 1.00e-08 m/attosecond\n",
      "v(10) = 1.00e+10 m/s\n"
     ]
    }
   ],
   "source": [
    "# Define position function\n",
    "x = lambda t: 5e-10 * t**2  # position in meters, t in attoseconds\n",
    "v = lambda t: 1e-9 * t      # exact derivative\n",
    "\n",
    "# Evaluate at t = 10 attoseconds\n",
    "t1 = 10\n",
    "velocity_attos = v(t1)\n",
    "velocity_si = velocity_attos / 1e-18  # convert to m/s\n",
    "\n",
    "print(f\"v({t1}) = {velocity_attos:.2e} m/attosecond\")\n",
    "print(f\"v({t1}) = {velocity_si:.2e} m/s\")\n"
   ]
  },
  {
   "cell_type": "code",
   "execution_count": 4,
   "id": "5e5356c5",
   "metadata": {},
   "outputs": [
    {
     "name": "stdout",
     "output_type": "stream",
     "text": [
      "Velocity function v(t): 1.0e-9*t\n",
      "v(10) = 1.00000000000000e-8 m/attosecond\n",
      "v(10) = 10000000000.0000 m/s\n"
     ]
    }
   ],
   "source": [
    "import sympy as sp\n",
    "\n",
    "# Define symbolic variable\n",
    "t = sp.Symbol('t')\n",
    "\n",
    "# Define the position function\n",
    "x = 5e-10 * t**2\n",
    "\n",
    "# Differentiate with respect to t\n",
    "v = sp.diff(x, t)\n",
    "\n",
    "# Print the symbolic derivative\n",
    "print(\"Velocity function v(t):\", v)\n",
    "\n",
    "# Evaluate the derivative at t = 10 attoseconds\n",
    "v_at_t1 = v.subs(t, 10)  # result in m/attosecond\n",
    "v_si = v_at_t1 / 1e-18   # convert to m/s\n",
    "\n",
    "print(\"v(10) =\", v_at_t1, \"m/attosecond\")\n",
    "print(\"v(10) =\", v_si.evalf(), \"m/s\")\n"
   ]
  }
 ],
 "metadata": {
  "kernelspec": {
   "display_name": "Python 3",
   "language": "python",
   "name": "python3"
  },
  "language_info": {
   "codemirror_mode": {
    "name": "ipython",
    "version": 3
   },
   "file_extension": ".py",
   "mimetype": "text/x-python",
   "name": "python",
   "nbconvert_exporter": "python",
   "pygments_lexer": "ipython3",
   "version": "3.12.1"
  }
 },
 "nbformat": 4,
 "nbformat_minor": 5
}
