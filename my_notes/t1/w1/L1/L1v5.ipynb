{
 "cells": [
  {
   "cell_type": "markdown",
   "id": "7286c87d",
   "metadata": {},
   "source": [
    "# L1v5 : Instantaneous Velocity in 1D\n",
    "\n",
    "### Algorithm: Instantaneous Velocity from Position-Time Function\n",
    "\n",
    "\n",
    "1. **Identify position function:**\n",
    "   Define $x(t)$, the position at time $t$.\n",
    "\n",
    "2. **Choose specific time:**\n",
    "   Select a time $t_1$ at which to find the instantaneous velocity.\n",
    "\n",
    "3. **Define time interval:**\n",
    "   Consider a small time interval $\\Delta t$ after $t_1$, i.e., $t_1 + \\Delta t$.\n",
    "\n",
    "4. **Calculate displacement:**\n",
    "   Compute displacement over interval:\n",
    "   $\\Delta x = x(t_1 + \\Delta t) - x(t_1)$\n",
    "\n",
    "5. **Calculate average velocity:**\n",
    "   Calculate average velocity over $\\Delta t$:\n",
    "   $v_{avg} = \\frac{\\Delta x}{\\Delta t}$\n",
    "\n",
    "6. **Reduce interval size:**\n",
    "   Shrink $\\Delta t$ progressively, recalculate $v_{avg}$ for each smaller interval.\n",
    "\n",
    "7. **Find limit of average velocity:**\n",
    "   Take limit as $\\Delta t \\to 0$:\n",
    "\n",
    "   $$\n",
    "   v(t_1) = \\lim_{\\Delta t \\to 0} \\frac{x(t_1 + \\Delta t) - x(t_1)}{\\Delta t}\n",
    "   $$\n",
    "\n",
    "8. **Interpret result:**\n",
    "   Result is the slope of the tangent to $x(t)$ at $t_1$ — the instantaneous velocity.\n",
    "\n",
    "9. **Generalize for any time $t$:**\n",
    "   Instantaneous velocity at any time $t$:\n",
    "\n",
    "   $$\n",
    "   v(t) = \\frac{dx}{dt}\n",
    "   $$\n"
   ]
  },
  {
   "cell_type": "code",
   "execution_count": null,
   "id": "0712d3ce",
   "metadata": {},
   "outputs": [
    {
     "name": "stdout",
     "output_type": "stream",
     "text": [
      "Delta t = 1.0e-01, Average velocity = 14.300000\n",
      "Delta t = 1.0e-02, Average velocity = 14.030000\n",
      "Delta t = 1.0e-03, Average velocity = 14.003000\n",
      "Delta t = 1.0e-04, Average velocity = 14.000300\n",
      "Delta t = 1.0e-05, Average velocity = 14.000030\n",
      "Delta t = 1.0e-06, Average velocity = 14.000003\n",
      "Estimated instantaneous velocity at t=2.0 is approximately 14.000003\n"
     ]
    }
   ],
   "source": [
    "def position(t):\n",
    "    # Example position function x(t) = 3*t**2 + 2*t + 1\n",
    "    return 3*t**2 + 2*t + 1\n",
    "\n",
    "def instantaneous_velocity(t1, delta_t_values):\n",
    "    velocities = []\n",
    "    for delta_t in delta_t_values:\n",
    "        # displacment\n",
    "        delta_x = position(t1 + delta_t) - position(t1)\n",
    "        # average velocity\n",
    "        v_avg = delta_x / delta_t\n",
    "        velocities.append(v_avg)\n",
    "    return velocities\n",
    "\n",
    "# Choose the time at which to find instantaneous velocity\n",
    "t1 = 2.0\n",
    "\n",
    "# List of progressively smaller delta t values to approximate limit\n",
    "delta_t_values = [1e-1, 1e-2, 1e-3, 1e-4, 1e-5, 1e-6]\n",
    "\n",
    "velocities = instantaneous_velocity(t1, delta_t_values)\n",
    "\n",
    "for dt, v in zip(delta_t_values, velocities):\n",
    "    print(f\"Delta t = {dt:.1e}, Average velocity = {v:.6f}\")\n",
    "\n",
    "# Optional: estimate instantaneous velocity as last average velocity\n",
    "print(f\"Estimated instantaneous velocity at t={t1} is approximately {velocities[-1]:.6f}\")\n"
   ]
  },
  {
   "cell_type": "markdown",
   "id": "3453190a",
   "metadata": {},
   "source": [
    "![](https://github.com/book-g/only_image/blob/main/L1v5.jpeg?raw=true)"
   ]
  }
 ],
 "metadata": {
  "kernelspec": {
   "display_name": "Python 3",
   "language": "python",
   "name": "python3"
  },
  "language_info": {
   "codemirror_mode": {
    "name": "ipython",
    "version": 3
   },
   "file_extension": ".py",
   "mimetype": "text/x-python",
   "name": "python",
   "nbconvert_exporter": "python",
   "pygments_lexer": "ipython3",
   "version": "3.12.1"
  }
 },
 "nbformat": 4,
 "nbformat_minor": 5
}
